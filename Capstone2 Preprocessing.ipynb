{
 "cells": [
  {
   "cell_type": "code",
   "execution_count": 15,
   "id": "2a22f220-67f4-4c1a-8f00-3fe816376a9c",
   "metadata": {},
   "outputs": [],
   "source": [
    "import pandas as pd\n",
    "import numpy as np\n",
    "\n",
    "# Visualization (for optional EDA and PCA)\n",
    "import matplotlib.pyplot as plt\n",
    "import seaborn as sns\n",
    "\n",
    "# Model preprocessing\n",
    "from sklearn.model_selection import train_test_split\n",
    "from sklearn.preprocessing import StandardScaler  # or RobustScaler\n",
    "from sklearn.pipeline import Pipeline\n",
    "\n",
    "# For optional correlation-based filtering\n",
    "from pandas import DataFrame\n",
    "\n",
    "# For optional oversampling if target is imbalanced\n",
    "from imblearn.over_sampling import SMOTE\n",
    "\n",
    "# For optional dimensionality reduction\n",
    "from sklearn.decomposition import PCA\n",
    "\n",
    "# For saving/loading model or data\n",
    "import joblib"
   ]
  },
  {
   "cell_type": "code",
   "execution_count": 17,
   "id": "a9d262a0-185a-4bb0-9a5c-7d7db6312683",
   "metadata": {},
   "outputs": [],
   "source": [
    "df_filtered = pd.read_csv(\"filtered_stress_data.csv\")"
   ]
  },
  {
   "cell_type": "code",
   "execution_count": 19,
   "id": "3d4af7aa-dc7b-4bda-9c73-89bccd126a79",
   "metadata": {},
   "outputs": [],
   "source": [
    "# Separate features and label\n",
    "X = df_filtered.drop('stress_level', axis=1)\n",
    "y = df_filtered['stress_level']"
   ]
  },
  {
   "cell_type": "code",
   "execution_count": 23,
   "id": "8ebe3963-6526-4bd9-bf14-61c2b0be8c52",
   "metadata": {},
   "outputs": [],
   "source": [
    "# Split into train and test sets\n",
    "X_train, X_test, y_train, y_test = train_test_split(X, y, test_size=0.2, stratify=y, random_state=42)"
   ]
  },
  {
   "cell_type": "code",
   "execution_count": 25,
   "id": "2cd74fc8-45e2-4433-bb0e-54dc2399724d",
   "metadata": {},
   "outputs": [],
   "source": [
    "#  Standardize (scale) the features\n",
    "scaler = StandardScaler()\n",
    "X_train_scaled = scaler.fit_transform(X_train)\n",
    "X_test_scaled = scaler.transform(X_test)"
   ]
  },
  {
   "cell_type": "code",
   "execution_count": 27,
   "id": "b40a96d7-4c5c-4c80-9400-edcdb00e7ef9",
   "metadata": {},
   "outputs": [],
   "source": [
    "# Convert scaled arrays back to DataFrames with original column names\n",
    "X_train_scaled_df = pd.DataFrame(X_train_scaled, columns=X.columns)\n",
    "X_test_scaled_df = pd.DataFrame(X_test_scaled, columns=X.columns)"
   ]
  },
  {
   "cell_type": "code",
   "execution_count": 29,
   "id": "49047dd2-a54f-45da-8fb3-56a449f633a8",
   "metadata": {},
   "outputs": [],
   "source": [
    "#Save to CSV files\n",
    "X_train_scaled_df.to_csv(\"X_train_scaled.csv\", index=False)\n",
    "X_test_scaled_df.to_csv(\"X_test_scaled.csv\", index=False)\n",
    "y_train.to_csv(\"y_train.csv\", index=False)\n",
    "y_test.to_csv(\"y_test.csv\", index=False)"
   ]
  },
  {
   "cell_type": "code",
   "execution_count": null,
   "id": "fc25ea0e-c5e2-4aca-9275-a223807fe7c1",
   "metadata": {},
   "outputs": [],
   "source": []
  }
 ],
 "metadata": {
  "kernelspec": {
   "display_name": "Python 3 (ipykernel)",
   "language": "python",
   "name": "python3"
  },
  "language_info": {
   "codemirror_mode": {
    "name": "ipython",
    "version": 3
   },
   "file_extension": ".py",
   "mimetype": "text/x-python",
   "name": "python",
   "nbconvert_exporter": "python",
   "pygments_lexer": "ipython3",
   "version": "3.12.4"
  }
 },
 "nbformat": 4,
 "nbformat_minor": 5
}
